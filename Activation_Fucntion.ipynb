{
  "nbformat": 4,
  "nbformat_minor": 0,
  "metadata": {
    "colab": {
      "name": "Activation Fucntion.ipynb",
      "provenance": [],
      "collapsed_sections": []
    },
    "kernelspec": {
      "name": "python3",
      "display_name": "Python 3"
    }
  },
  "cells": [
    {
      "cell_type": "code",
      "metadata": {
        "id": "-kvLQVPGeDo9",
        "colab_type": "code",
        "colab": {
          "base_uri": "https://localhost:8080/",
          "height": 50
        },
        "outputId": "c0f9655a-4330-473f-dc94-f60096cf4e1b"
      },
      "source": [
        "import numpy as np\n",
        "input_data=np.array([2,3])\n",
        "weights={'node_0':np.array([1,1]),\n",
        "         'node_1':np.array([-1,1]),\n",
        "         'op':np.array([2,-1])}\n",
        "node_0_input=(input_data*weights['node_0']).sum()\n",
        "node_0_value=np.tanh(node_0_input)\n",
        "node_1_input=(input_data*weights['node_1']).sum()\n",
        "node_1_value=np.tanh(node_1_input)\n",
        "hidden_layer_values=np.array([node_0_value,node_1_value])\n",
        "print(hidden_layer_values)\n",
        "output=(hidden_layer_values*weights['op']).sum()\n",
        "print(output)"
      ],
      "execution_count": 1,
      "outputs": [
        {
          "output_type": "stream",
          "text": [
            "[0.9999092  0.76159416]\n",
            "1.2382242525694254\n"
          ],
          "name": "stdout"
        }
      ]
    },
    {
      "cell_type": "code",
      "metadata": {
        "id": "-A8wxzigl3rk",
        "colab_type": "code",
        "colab": {
          "base_uri": "https://localhost:8080/",
          "height": 50
        },
        "outputId": "7caf1cbb-f53f-404c-89cc-a86ea9a5fec3"
      },
      "source": [
        "# RELU Activation Layer\n",
        "\n",
        "def relu(input):\n",
        "    '''Define your relu activation function here'''\n",
        "    if (input>=0):\n",
        "        return input\n",
        "    else:\n",
        "        return 0\n",
        "    # Calculate the value for the output of the relu function: output\n",
        "    output = max(0,input)\n",
        "    \n",
        "    # Return the value just calculated\n",
        "    return(output)\n",
        "\n",
        "# Calculate node 0 value: node_0_output\n",
        "node_0_input = (input_data * weights['node_0']).sum()\n",
        "node_0_output =relu(node_0_input)\n",
        "\n",
        "# Calculate node 1 value: node_1_output\n",
        "node_1_input = (input_data * weights['node_1']).sum()\n",
        "node_1_output =relu(node_1_input)\n",
        "\n",
        "# Put node values into array: hidden_layer_outputs\n",
        "hidden_layer_outputs = np.array([node_0_output, node_1_output])\n",
        "\n",
        "# Calculate model output (do not apply relu)\n",
        "model_output = (hidden_layer_outputs * weights['op']).sum()\n",
        "\n",
        "# Print model output\n",
        "print(model_output)\n",
        "# Define predict_with_network()\n",
        "def predict_with_network(input_data_row, weights):\n",
        "\n",
        "    # Calculate node 0 value\n",
        "    node_0_input =(input_data_row*weights['node_0']).sum()\n",
        "    node_0_output =relu(node_0_input)\n",
        "\n",
        "    # Calculate node 1 value\n",
        "    node_1_input = (input_data_row*weights['node_1']).sum()\n",
        "    node_1_output = relu(node_1_input)\n",
        "    # Put node values into array: hidden_layer_outputs\n",
        "    hidden_layer_outputs = np.array([node_0_output, node_1_output])\n",
        "    \n",
        "    # Calculate model output\n",
        "    input_to_final_layer =(hidden_layer_outputs*weights['op']).sum()\n",
        "    model_output = relu(input_to_final_layer)\n",
        "    \n",
        "    # Return model output\n",
        "    return(model_output)\n",
        "\n",
        "\n",
        "# Create empty list to store prediction results\n",
        "results = []\n",
        "for input_data_row in input_data:\n",
        "    # Append prediction to results\n",
        "    results.append(predict_with_network(input_data_row,weights))\n",
        "\n",
        "# Print results\n",
        "print(results)\n",
        "        "
      ],
      "execution_count": 2,
      "outputs": [
        {
          "output_type": "stream",
          "text": [
            "9\n",
            "[8, 12]\n"
          ],
          "name": "stdout"
        }
      ]
    }
  ]
}