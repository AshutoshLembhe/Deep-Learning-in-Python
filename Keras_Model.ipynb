{
  "nbformat": 4,
  "nbformat_minor": 0,
  "metadata": {
    "colab": {
      "name": "Keras Model.ipynb",
      "provenance": [],
      "collapsed_sections": [],
      "authorship_tag": "ABX9TyPsFvBSFti02CD3nT0LwtRf",
      "include_colab_link": true
    },
    "kernelspec": {
      "name": "python3",
      "display_name": "Python 3"
    }
  },
  "cells": [
    {
      "cell_type": "markdown",
      "metadata": {
        "id": "view-in-github",
        "colab_type": "text"
      },
      "source": [
        "<a href=\"https://colab.research.google.com/github/AshutoshLembhe/Deep-Learning-in-Python/blob/master/Keras_Model.ipynb\" target=\"_parent\"><img src=\"https://colab.research.google.com/assets/colab-badge.svg\" alt=\"Open In Colab\"/></a>"
      ]
    },
    {
      "cell_type": "code",
      "metadata": {
        "id": "5ScMOMtZA7HG",
        "colab_type": "code",
        "colab": {}
      },
      "source": [
        "import numpy as np\n",
        "import keras\n",
        "from keras.layers import Dense\n",
        "from keras.models import Sequential\n",
        "#Here the predictors_data is not an actual file but an example to show how to import your csv file.\n",
        "# You can give your own dataset input\n",
        "predictors=np.loadtxt('predictors_data.csv',delimiter='.')\n",
        "n_cols=predictors.shape[1]\n",
        "\n",
        "#Sequential Model\n",
        "models=Sequential()\n",
        "# Adding layer - dense layer - column specified but not limit to rows\n",
        "# 2 hidden layer with 100 nodes each.\n",
        "model.add(Dense(100,activation='relu',input_shape=(n_cols,)))\n",
        "model.add(Dense(100,activation='relu'))\n",
        "\n",
        "#output layer\n",
        "model.add(Dense(1))\n",
        "\n",
        "#Compiling the model\n",
        "model.compile(optimizer='adam',loss='mean_squared_loss')\n",
        "\n",
        "#Fitting the model\n",
        "#Applying Gradient descent and back propagation to update weights\n",
        "model.fit(predictors,target)\n"
      ],
      "execution_count": 0,
      "outputs": []
    }
  ]
}