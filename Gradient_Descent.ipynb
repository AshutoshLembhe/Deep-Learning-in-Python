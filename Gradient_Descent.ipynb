{
  "nbformat": 4,
  "nbformat_minor": 0,
  "metadata": {
    "colab": {
      "name": "Gradient Descent.ipynb",
      "provenance": [],
      "collapsed_sections": [],
      "authorship_tag": "ABX9TyOO+rV9aFOOVbjHdXbk722Q",
      "include_colab_link": true
    },
    "kernelspec": {
      "name": "python3",
      "display_name": "Python 3"
    }
  },
  "cells": [
    {
      "cell_type": "markdown",
      "metadata": {
        "id": "view-in-github",
        "colab_type": "text"
      },
      "source": [
        "<a href=\"https://colab.research.google.com/github/AshutoshLembhe/Deep-Learning-in-Python/blob/master/Gradient_Descent.ipynb\" target=\"_parent\"><img src=\"https://colab.research.google.com/assets/colab-badge.svg\" alt=\"Open In Colab\"/></a>"
      ]
    },
    {
      "cell_type": "code",
      "metadata": {
        "id": "Eom__Rf85F3n",
        "colab_type": "code",
        "colab": {
          "base_uri": "https://localhost:8080/",
          "height": 34
        },
        "outputId": "57f70999-a083-4d59-ce02-380a8567ec54"
      },
      "source": [
        "#Code to Calculate slopes and update weights\n",
        "import numpy as np\n",
        "weights=np.array([1,2])\n",
        "input_data=np.array([3,4])\n",
        "target=6\n",
        "learning_rate=0.01\n",
        "preds=(weights*input_data).sum()\n",
        "error=preds-target\n",
        "print(error)"
      ],
      "execution_count": 1,
      "outputs": [
        {
          "output_type": "stream",
          "text": [
            "5\n"
          ],
          "name": "stdout"
        }
      ]
    },
    {
      "cell_type": "code",
      "metadata": {
        "id": "cLRyKKUX5ttg",
        "colab_type": "code",
        "colab": {
          "base_uri": "https://localhost:8080/",
          "height": 34
        },
        "outputId": "763ec8fd-c1c9-46e4-c739-ae284fe79d57"
      },
      "source": [
        "gradient=2*input_data*error\n",
        "gradient"
      ],
      "execution_count": 2,
      "outputs": [
        {
          "output_type": "execute_result",
          "data": {
            "text/plain": [
              "array([30, 40])"
            ]
          },
          "metadata": {
            "tags": []
          },
          "execution_count": 2
        }
      ]
    },
    {
      "cell_type": "code",
      "metadata": {
        "id": "TOup5wjd5yIT",
        "colab_type": "code",
        "colab": {
          "base_uri": "https://localhost:8080/",
          "height": 34
        },
        "outputId": "3fc43e69-08fa-450c-88f3-c780707016f2"
      },
      "source": [
        "#Updating the weights\n",
        "weights_updated=weights-(learning_rate*gradient)\n",
        "#New Preditions\n",
        "preds_updated=(weights_updated*input_data).sum()\n",
        "#updated error\n",
        "error_updated=preds_updated-target\n",
        "print(error_updated)\n",
        "#we can observe low error "
      ],
      "execution_count": 4,
      "outputs": [
        {
          "output_type": "stream",
          "text": [
            "2.5\n"
          ],
          "name": "stdout"
        }
      ]
    }
  ]
}